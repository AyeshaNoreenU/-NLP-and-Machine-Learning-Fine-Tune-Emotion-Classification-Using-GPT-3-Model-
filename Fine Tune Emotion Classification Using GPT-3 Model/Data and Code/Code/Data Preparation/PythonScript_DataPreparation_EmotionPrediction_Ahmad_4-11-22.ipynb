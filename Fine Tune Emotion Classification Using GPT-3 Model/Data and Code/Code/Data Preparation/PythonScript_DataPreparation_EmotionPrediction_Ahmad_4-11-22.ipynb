{
 "cells": [
  {
   "cell_type": "markdown",
   "id": "35a1e52a",
   "metadata": {},
   "source": [
    "<br><br><br>\n",
    "<center> <h3 style=\"color:blue\">========================================================</h3> </center>\n",
    "<center> <h3 style=\"color:green\">In the Name of Allah, the Most Beneficent, the Most Merciful</h3> </center>\n",
    "<center> <h3 style=\"color:blue\">========================================================</h3> </center>\n",
    "<br><br><br>"
   ]
  },
  {
   "cell_type": "markdown",
   "id": "ee0f5cee",
   "metadata": {},
   "source": [
    "                        *--------------------------- Developer Information --------------------------*\n",
    "                        |                                                                            |\n",
    "                        |        Project Title  = Multi-label Emotion Prediction System              |\n",
    "                        |                                                                            |\n",
    "                        |        Developer Name = Ayesha  Noreen                                     |\n",
    "                        |                                                                            |\n",
    "                        |        Program Name:  = Data preparation                                   |\n",
    "                        |                                                                            |\n",
    "                        |        Program Version: = 1.0                                              |\n",
    "                        |                                                                            |\n",
    "                        |        Base GPT3 Model: = Ada                                              |\n",
    "                        |                                                                            |\n",
    "                        |        Time Taken in Fine Tuning: = 6 minutes                              |\n",
    "                        |                                                                            |\n",
    "                        |        Copyright      = Copyright (C) 2022 Ilm O Irfan Technologies        |\n",
    "                        |                                                                            |\n",
    "                        |        License        = Public Domain                                      |\n",
    "                        |                                                                            |\n",
    "                        |        Version        = 1.0                                                |\n",
    "                        |                                                                            |\n",
    "                        *----------------------------------------------------------------------------*"
   ]
  },
  {
   "cell_type": "markdown",
   "id": "ad94924e",
   "metadata": {},
   "source": [
    "\n",
    "                        *----------------------------- System Settings ------------------------------*\n",
    "                        |                                                                            |\n",
    "                        |        Programming Language  = Python 3.8.13                               |\n",
    "                        |                                                                            |\n",
    "                        |        Operating System      = Windows 10                                  |\n",
    "                        |                                                                            |\n",
    "                        |        IDE                   = Jupyter Notebook                            |\n",
    "                        |                                                                            |\n",
    "                        |        Start date            = 3-11-2022                                   |\n",
    "                        |                                                                            |\n",
    "                        |        End Data              = 4-11-2022                                   |\n",
    "                        |                                                                            |\n",
    "                        *----------------------------------------------------------------------------*\n"
   ]
  },
  {
   "cell_type": "markdown",
   "id": "174bf9d9",
   "metadata": {},
   "source": [
    "\n",
    "                        *----------------------- Project and Client Information  --------------------*\n",
    "                        |                                                                            |\n",
    "                        |                                                                            |\n",
    "                        |        Project Title: Multi-label Emotions Predictions System              |                         \n",
    "                        |        Client Name  : Ayesha Noreen                                        |\n",
    "                        |                                                                            |\n",
    "                        *----------------------------------------------------------------------------*\n"
   ]
  },
  {
   "cell_type": "markdown",
   "id": "abcb023b",
   "metadata": {},
   "source": [
    "\n",
    "                        *--------------------------- Purpose of the Program -------------------------*\n",
    "                        |                                                                            |\n",
    "                        |                                                                            |\n",
    "                        |        The Main purpoe of this program is to transform the data into       |\n",
    "                        |                             a JSONLines Format                             |                         \n",
    "                        |                                                                            |\n",
    "                        |                                                                            |\n",
    "                        *----------------------------------------------------------------------------*\n"
   ]
  },
  {
   "cell_type": "markdown",
   "id": "76604f09",
   "metadata": {},
   "source": [
    "\n",
    "                        *------------------------------ Input and Output ----------------------------*\n",
    "                        |                                                                            |\n",
    "                        |                                                                            |\n",
    "                        |       Input :                                                              |\n",
    "                        |           - RawData_EmotionPrediction_4-11-22.csv                    |\n",
    "                        |       Output :                                                             |\n",
    "                        |           - JASONLinesData_EmotionPrediction_4-11-22_prepared.jsonl  |\n",
    "                        |                                                                            |\n",
    "                        |                                                                            |\n",
    "                        *----------------------------------------------------------------------------*\n"
   ]
  },
  {
   "cell_type": "markdown",
   "id": "be9fef6d",
   "metadata": {},
   "source": [
    "## Open AI GPT-3 Helping Material"
   ]
  },
  {
   "cell_type": "markdown",
   "id": "cceed7d2",
   "metadata": {},
   "source": [
    "### https://beta.openai.com/docs/guides/fine-tuning/preparing-your-dataset\n",
    "### https://github.com/openai/openai-cookbook/blob/main/examples/Fine-tuned_classification.ipynb"
   ]
  },
  {
   "cell_type": "markdown",
   "id": "09e68223",
   "metadata": {},
   "source": [
    "# Step 1: Import Libraries"
   ]
  },
  {
   "cell_type": "code",
   "execution_count": 1,
   "id": "0160cead",
   "metadata": {},
   "outputs": [
    {
     "name": "stderr",
     "output_type": "stream",
     "text": [
      "C:\\Users\\Lenovo\\anaconda3\\lib\\site-packages\\numpy\\_distributor_init.py:30: UserWarning: loaded more than 1 DLL from .libs:\n",
      "C:\\Users\\Lenovo\\anaconda3\\lib\\site-packages\\numpy\\.libs\\libopenblas.EL2C6PLE4ZYW3ECEVIV3OXXGRN2NRFM2.gfortran-win_amd64.dll\n",
      "C:\\Users\\Lenovo\\anaconda3\\lib\\site-packages\\numpy\\.libs\\libopenblas.WCDJNK7YVMPZQ2ME2ZZHJJRJ3JIKNDB7.gfortran-win_amd64.dll\n",
      "  warnings.warn(\"loaded more than 1 DLL from .libs:\"\n"
     ]
    }
   ],
   "source": [
    "import pandas as pd\n",
    "import openai\n",
    "import os"
   ]
  },
  {
   "cell_type": "markdown",
   "id": "47d0e55b",
   "metadata": {},
   "source": [
    "# Step 2: Add Unique API to the Environment"
   ]
  },
  {
   "cell_type": "code",
   "execution_count": 2,
   "id": "9e379622",
   "metadata": {},
   "outputs": [],
   "source": [
    "os.environ['OPENAI_API_KEY'] = \"Add your API HERE\"\n",
    "openai.api_key = os.getenv(\"OPENAI_API_KEY\")"
   ]
  },
  {
   "cell_type": "markdown",
   "id": "44431e41",
   "metadata": {},
   "source": [
    "# Step 3: Load Dataset"
   ]
  },
  {
   "cell_type": "code",
   "execution_count": 21,
   "id": "1d20423f",
   "metadata": {},
   "outputs": [
    {
     "data": {
      "text/html": [
       "<div>\n",
       "<style scoped>\n",
       "    .dataframe tbody tr th:only-of-type {\n",
       "        vertical-align: middle;\n",
       "    }\n",
       "\n",
       "    .dataframe tbody tr th {\n",
       "        vertical-align: top;\n",
       "    }\n",
       "\n",
       "    .dataframe thead th {\n",
       "        text-align: right;\n",
       "    }\n",
       "</style>\n",
       "<table border=\"1\" class=\"dataframe\">\n",
       "  <thead>\n",
       "    <tr style=\"text-align: right;\">\n",
       "      <th></th>\n",
       "      <th>Tweet</th>\n",
       "      <th>anger</th>\n",
       "      <th>anticipation</th>\n",
       "      <th>disgust</th>\n",
       "      <th>fear</th>\n",
       "      <th>joy</th>\n",
       "      <th>love</th>\n",
       "      <th>optimism</th>\n",
       "      <th>pessimism</th>\n",
       "      <th>sadness</th>\n",
       "      <th>surprise</th>\n",
       "      <th>trust</th>\n",
       "    </tr>\n",
       "  </thead>\n",
       "  <tbody>\n",
       "    <tr>\n",
       "      <th>0</th>\n",
       "      <td>“Worry is a down payment on a problem you may ...</td>\n",
       "      <td>0</td>\n",
       "      <td>1</td>\n",
       "      <td>0</td>\n",
       "      <td>0</td>\n",
       "      <td>0</td>\n",
       "      <td>0</td>\n",
       "      <td>1</td>\n",
       "      <td>0</td>\n",
       "      <td>0</td>\n",
       "      <td>0</td>\n",
       "      <td>1</td>\n",
       "    </tr>\n",
       "    <tr>\n",
       "      <th>1</th>\n",
       "      <td>Whatever you decide to do make sure it makes y...</td>\n",
       "      <td>0</td>\n",
       "      <td>0</td>\n",
       "      <td>0</td>\n",
       "      <td>0</td>\n",
       "      <td>1</td>\n",
       "      <td>1</td>\n",
       "      <td>1</td>\n",
       "      <td>0</td>\n",
       "      <td>0</td>\n",
       "      <td>0</td>\n",
       "      <td>0</td>\n",
       "    </tr>\n",
       "    <tr>\n",
       "      <th>2</th>\n",
       "      <td>@Max_Kellerman  it also helps that the majorit...</td>\n",
       "      <td>1</td>\n",
       "      <td>0</td>\n",
       "      <td>1</td>\n",
       "      <td>0</td>\n",
       "      <td>1</td>\n",
       "      <td>0</td>\n",
       "      <td>1</td>\n",
       "      <td>0</td>\n",
       "      <td>0</td>\n",
       "      <td>0</td>\n",
       "      <td>0</td>\n",
       "    </tr>\n",
       "    <tr>\n",
       "      <th>3</th>\n",
       "      <td>Accept the challenges so that you can literall...</td>\n",
       "      <td>0</td>\n",
       "      <td>0</td>\n",
       "      <td>0</td>\n",
       "      <td>0</td>\n",
       "      <td>1</td>\n",
       "      <td>0</td>\n",
       "      <td>1</td>\n",
       "      <td>0</td>\n",
       "      <td>0</td>\n",
       "      <td>0</td>\n",
       "      <td>0</td>\n",
       "    </tr>\n",
       "    <tr>\n",
       "      <th>4</th>\n",
       "      <td>My roommate: it's okay that we can't spell bec...</td>\n",
       "      <td>1</td>\n",
       "      <td>0</td>\n",
       "      <td>1</td>\n",
       "      <td>0</td>\n",
       "      <td>0</td>\n",
       "      <td>0</td>\n",
       "      <td>0</td>\n",
       "      <td>0</td>\n",
       "      <td>0</td>\n",
       "      <td>0</td>\n",
       "      <td>0</td>\n",
       "    </tr>\n",
       "  </tbody>\n",
       "</table>\n",
       "</div>"
      ],
      "text/plain": [
       "                                               Tweet  anger  anticipation  \\\n",
       "0  “Worry is a down payment on a problem you may ...      0             1   \n",
       "1  Whatever you decide to do make sure it makes y...      0             0   \n",
       "2  @Max_Kellerman  it also helps that the majorit...      1             0   \n",
       "3  Accept the challenges so that you can literall...      0             0   \n",
       "4  My roommate: it's okay that we can't spell bec...      1             0   \n",
       "\n",
       "   disgust  fear  joy  love  optimism  pessimism  sadness  surprise  trust  \n",
       "0        0     0    0     0         1          0        0         0      1  \n",
       "1        0     0    1     1         1          0        0         0      0  \n",
       "2        1     0    1     0         1          0        0         0      0  \n",
       "3        0     0    1     0         1          0        0         0      0  \n",
       "4        1     0    0     0         0          0        0         0      0  "
      ]
     },
     "execution_count": 21,
     "metadata": {},
     "output_type": "execute_result"
    }
   ],
   "source": [
    "e_c_data = pd.read_csv(r'C:\\Users\\Lenovo\\Desktop\\openai\\GPT-3 Documentation\\Sirs Comments\\Data and Code\\Data\\RawData_EmotionPrediction_Ahmad_4-11-22.csv')\n",
    "e_c_data.head()"
   ]
  },
  {
   "cell_type": "markdown",
   "id": "1caa7b63",
   "metadata": {},
   "source": [
    "# Step 4: Change Dataset in the form of Prompt Completion"
   ]
  },
  {
   "cell_type": "markdown",
   "id": "492648de",
   "metadata": {},
   "source": [
    "### Step 4.1: Rename Input Column to prompt"
   ]
  },
  {
   "cell_type": "code",
   "execution_count": 44,
   "id": "51836f71",
   "metadata": {},
   "outputs": [
    {
     "data": {
      "text/html": [
       "<div>\n",
       "<style scoped>\n",
       "    .dataframe tbody tr th:only-of-type {\n",
       "        vertical-align: middle;\n",
       "    }\n",
       "\n",
       "    .dataframe tbody tr th {\n",
       "        vertical-align: top;\n",
       "    }\n",
       "\n",
       "    .dataframe thead th {\n",
       "        text-align: right;\n",
       "    }\n",
       "</style>\n",
       "<table border=\"1\" class=\"dataframe\">\n",
       "  <thead>\n",
       "    <tr style=\"text-align: right;\">\n",
       "      <th></th>\n",
       "      <th>prompt</th>\n",
       "      <th>anger</th>\n",
       "      <th>anticipation</th>\n",
       "      <th>disgust</th>\n",
       "      <th>fear</th>\n",
       "      <th>joy</th>\n",
       "      <th>love</th>\n",
       "      <th>optimism</th>\n",
       "      <th>pessimism</th>\n",
       "      <th>sadness</th>\n",
       "      <th>surprise</th>\n",
       "      <th>trust</th>\n",
       "    </tr>\n",
       "  </thead>\n",
       "  <tbody>\n",
       "    <tr>\n",
       "      <th>0</th>\n",
       "      <td>“Worry is a down payment on a problem you may ...</td>\n",
       "      <td>0</td>\n",
       "      <td>1</td>\n",
       "      <td>0</td>\n",
       "      <td>0</td>\n",
       "      <td>0</td>\n",
       "      <td>0</td>\n",
       "      <td>1</td>\n",
       "      <td>0</td>\n",
       "      <td>0</td>\n",
       "      <td>0</td>\n",
       "      <td>1</td>\n",
       "    </tr>\n",
       "    <tr>\n",
       "      <th>1</th>\n",
       "      <td>Whatever you decide to do make sure it makes y...</td>\n",
       "      <td>0</td>\n",
       "      <td>0</td>\n",
       "      <td>0</td>\n",
       "      <td>0</td>\n",
       "      <td>1</td>\n",
       "      <td>1</td>\n",
       "      <td>1</td>\n",
       "      <td>0</td>\n",
       "      <td>0</td>\n",
       "      <td>0</td>\n",
       "      <td>0</td>\n",
       "    </tr>\n",
       "    <tr>\n",
       "      <th>2</th>\n",
       "      <td>@Max_Kellerman  it also helps that the majorit...</td>\n",
       "      <td>1</td>\n",
       "      <td>0</td>\n",
       "      <td>1</td>\n",
       "      <td>0</td>\n",
       "      <td>1</td>\n",
       "      <td>0</td>\n",
       "      <td>1</td>\n",
       "      <td>0</td>\n",
       "      <td>0</td>\n",
       "      <td>0</td>\n",
       "      <td>0</td>\n",
       "    </tr>\n",
       "    <tr>\n",
       "      <th>3</th>\n",
       "      <td>Accept the challenges so that you can literall...</td>\n",
       "      <td>0</td>\n",
       "      <td>0</td>\n",
       "      <td>0</td>\n",
       "      <td>0</td>\n",
       "      <td>1</td>\n",
       "      <td>0</td>\n",
       "      <td>1</td>\n",
       "      <td>0</td>\n",
       "      <td>0</td>\n",
       "      <td>0</td>\n",
       "      <td>0</td>\n",
       "    </tr>\n",
       "    <tr>\n",
       "      <th>4</th>\n",
       "      <td>My roommate: it's okay that we can't spell bec...</td>\n",
       "      <td>1</td>\n",
       "      <td>0</td>\n",
       "      <td>1</td>\n",
       "      <td>0</td>\n",
       "      <td>0</td>\n",
       "      <td>0</td>\n",
       "      <td>0</td>\n",
       "      <td>0</td>\n",
       "      <td>0</td>\n",
       "      <td>0</td>\n",
       "      <td>0</td>\n",
       "    </tr>\n",
       "  </tbody>\n",
       "</table>\n",
       "</div>"
      ],
      "text/plain": [
       "                                              prompt  anger  anticipation  \\\n",
       "0  “Worry is a down payment on a problem you may ...      0             1   \n",
       "1  Whatever you decide to do make sure it makes y...      0             0   \n",
       "2  @Max_Kellerman  it also helps that the majorit...      1             0   \n",
       "3  Accept the challenges so that you can literall...      0             0   \n",
       "4  My roommate: it's okay that we can't spell bec...      1             0   \n",
       "\n",
       "   disgust  fear  joy  love  optimism  pessimism  sadness  surprise  trust  \n",
       "0        0     0    0     0         1          0        0         0      1  \n",
       "1        0     0    1     1         1          0        0         0      0  \n",
       "2        1     0    1     0         1          0        0         0      0  \n",
       "3        0     0    1     0         1          0        0         0      0  \n",
       "4        1     0    0     0         0          0        0         0      0  "
      ]
     },
     "execution_count": 44,
     "metadata": {},
     "output_type": "execute_result"
    }
   ],
   "source": [
    "prompt_completion_form = e_c_data.copy()\n",
    "prompt_completion_form.rename(columns={'Tweet': 'prompt'}, inplace=True)\n",
    "prompt_completion_form.head()"
   ]
  },
  {
   "cell_type": "code",
   "execution_count": 45,
   "id": "9a99f76d",
   "metadata": {},
   "outputs": [],
   "source": [
    "prompt = prompt_completion_form['prompt']"
   ]
  },
  {
   "cell_type": "markdown",
   "id": "5ed33763",
   "metadata": {},
   "source": [
    "### Step 4.2: Merge Output Columns as a single column and rename as completion"
   ]
  },
  {
   "cell_type": "code",
   "execution_count": 46,
   "id": "01598ae3",
   "metadata": {},
   "outputs": [
    {
     "name": "stderr",
     "output_type": "stream",
     "text": [
      "C:\\Users\\Lenovo\\AppData\\Local\\Temp\\ipykernel_30576\\1328806138.py:6: FutureWarning: The default value of regex will change from True to False in a future version.\n",
      "  final_output['final'] = final_output['final'].astype(str).str.replace(\"[\\]\\[]\",'').astype(str)\n"
     ]
    }
   ],
   "source": [
    "# Merge Multi-labels Output into a single column seperated by Commas and rename column as completion\n",
    "\n",
    "outputs = prompt_completion_form.iloc[:,1:]\n",
    "outputs[\"final\"] = outputs.apply(lambda row: row[row == 1].index, axis=1)\n",
    "final_output = outputs[\"final\"].to_frame()\n",
    "final_output['final'] = final_output['final'].astype(str).str.replace(\"[\\]\\[]\",'').astype(str)"
   ]
  },
  {
   "cell_type": "code",
   "execution_count": 47,
   "id": "368e083f",
   "metadata": {},
   "outputs": [],
   "source": [
    "new_data = []\n",
    "for i in range (len(final_output)):\n",
    "    new_data.append(final_output['final'][i][:-17])\n",
    "new_data2 = []\n",
    "for i in range (len(final_output)):\n",
    "    new_data2.append(new_data[i][6:])  \n",
    "    \n",
    "completion = pd.DataFrame(new_data2,columns = [\"completion\"])\n",
    "completion['completion'] = completion['completion'].str.replace(r'\"', '')"
   ]
  },
  {
   "cell_type": "code",
   "execution_count": 48,
   "id": "ce91e9fd",
   "metadata": {},
   "outputs": [
    {
     "data": {
      "text/html": [
       "<div>\n",
       "<style scoped>\n",
       "    .dataframe tbody tr th:only-of-type {\n",
       "        vertical-align: middle;\n",
       "    }\n",
       "\n",
       "    .dataframe tbody tr th {\n",
       "        vertical-align: top;\n",
       "    }\n",
       "\n",
       "    .dataframe thead th {\n",
       "        text-align: right;\n",
       "    }\n",
       "</style>\n",
       "<table border=\"1\" class=\"dataframe\">\n",
       "  <thead>\n",
       "    <tr style=\"text-align: right;\">\n",
       "      <th></th>\n",
       "      <th>prompt</th>\n",
       "      <th>completion</th>\n",
       "    </tr>\n",
       "  </thead>\n",
       "  <tbody>\n",
       "    <tr>\n",
       "      <th>0</th>\n",
       "      <td>“Worry is a down payment on a problem you may ...</td>\n",
       "      <td>anticipation\\noptimism\\ntrust</td>\n",
       "    </tr>\n",
       "    <tr>\n",
       "      <th>1</th>\n",
       "      <td>Whatever you decide to do make sure it makes y...</td>\n",
       "      <td>joy\\nlove\\noptimism</td>\n",
       "    </tr>\n",
       "    <tr>\n",
       "      <th>2</th>\n",
       "      <td>@Max_Kellerman  it also helps that the majorit...</td>\n",
       "      <td>anger\\ndisgust\\njoy\\noptimism</td>\n",
       "    </tr>\n",
       "    <tr>\n",
       "      <th>3</th>\n",
       "      <td>Accept the challenges so that you can literall...</td>\n",
       "      <td>joy\\noptimism</td>\n",
       "    </tr>\n",
       "    <tr>\n",
       "      <th>4</th>\n",
       "      <td>My roommate: it's okay that we can't spell bec...</td>\n",
       "      <td>anger\\ndisgust</td>\n",
       "    </tr>\n",
       "  </tbody>\n",
       "</table>\n",
       "</div>"
      ],
      "text/plain": [
       "                                              prompt  \\\n",
       "0  “Worry is a down payment on a problem you may ...   \n",
       "1  Whatever you decide to do make sure it makes y...   \n",
       "2  @Max_Kellerman  it also helps that the majorit...   \n",
       "3  Accept the challenges so that you can literall...   \n",
       "4  My roommate: it's okay that we can't spell bec...   \n",
       "\n",
       "                      completion  \n",
       "0  anticipation\\noptimism\\ntrust  \n",
       "1            joy\\nlove\\noptimism  \n",
       "2  anger\\ndisgust\\njoy\\noptimism  \n",
       "3                  joy\\noptimism  \n",
       "4                 anger\\ndisgust  "
      ]
     },
     "execution_count": 48,
     "metadata": {},
     "output_type": "execute_result"
    }
   ],
   "source": [
    "#Join the Input prompt and output completion\n",
    "prompt = prompt.to_frame()\n",
    "emotions_dataset = prompt.join(completion)\n",
    "emotions_dataset[\"completion\"] = emotions_dataset[\"completion\"].str.replace(' ','')\n",
    "emotions_dataset[\"completion\"] = emotions_dataset[\"completion\"].str.replace(\"'\",'')\n",
    "emotions_dataset[\"completion\"] = emotions_dataset[\"completion\"].str.replace(\",\",'\\n')\n",
    "emotions_dataset.head()"
   ]
  },
  {
   "cell_type": "code",
   "execution_count": 49,
   "id": "83c70665",
   "metadata": {},
   "outputs": [],
   "source": [
    "emotions_dataset.to_csv(r'C:\\Users\\Lenovo\\Desktop\\openai\\GPT-3 Documentation\\Sirs Comments\\Data and Code\\Data\\TransformedData_EmotionPrediction_Ahmad_4-11-22.csv',index=False, header=True)"
   ]
  },
  {
   "cell_type": "markdown",
   "id": "72901196",
   "metadata": {},
   "source": [
    "# Step 5: Select Specific Dataset Rows\n",
    "#### Here we are selecting first 100 for the Fine Tunning¶"
   ]
  },
  {
   "cell_type": "code",
   "execution_count": 50,
   "id": "01ecee92",
   "metadata": {
    "scrolled": true
   },
   "outputs": [
    {
     "data": {
      "text/html": [
       "<div>\n",
       "<style scoped>\n",
       "    .dataframe tbody tr th:only-of-type {\n",
       "        vertical-align: middle;\n",
       "    }\n",
       "\n",
       "    .dataframe tbody tr th {\n",
       "        vertical-align: top;\n",
       "    }\n",
       "\n",
       "    .dataframe thead th {\n",
       "        text-align: right;\n",
       "    }\n",
       "</style>\n",
       "<table border=\"1\" class=\"dataframe\">\n",
       "  <thead>\n",
       "    <tr style=\"text-align: right;\">\n",
       "      <th></th>\n",
       "      <th>prompt</th>\n",
       "      <th>completion</th>\n",
       "    </tr>\n",
       "  </thead>\n",
       "  <tbody>\n",
       "    <tr>\n",
       "      <th>0</th>\n",
       "      <td>“Worry is a down payment on a problem you may ...</td>\n",
       "      <td>anticipation\\noptimism\\ntrust</td>\n",
       "    </tr>\n",
       "    <tr>\n",
       "      <th>1</th>\n",
       "      <td>Whatever you decide to do make sure it makes y...</td>\n",
       "      <td>joy\\nlove\\noptimism</td>\n",
       "    </tr>\n",
       "    <tr>\n",
       "      <th>2</th>\n",
       "      <td>@Max_Kellerman  it also helps that the majorit...</td>\n",
       "      <td>anger\\ndisgust\\njoy\\noptimism</td>\n",
       "    </tr>\n",
       "    <tr>\n",
       "      <th>3</th>\n",
       "      <td>Accept the challenges so that you can literall...</td>\n",
       "      <td>joy\\noptimism</td>\n",
       "    </tr>\n",
       "    <tr>\n",
       "      <th>4</th>\n",
       "      <td>My roommate: it's okay that we can't spell bec...</td>\n",
       "      <td>anger\\ndisgust</td>\n",
       "    </tr>\n",
       "  </tbody>\n",
       "</table>\n",
       "</div>"
      ],
      "text/plain": [
       "                                              prompt  \\\n",
       "0  “Worry is a down payment on a problem you may ...   \n",
       "1  Whatever you decide to do make sure it makes y...   \n",
       "2  @Max_Kellerman  it also helps that the majorit...   \n",
       "3  Accept the challenges so that you can literall...   \n",
       "4  My roommate: it's okay that we can't spell bec...   \n",
       "\n",
       "                      completion  \n",
       "0  anticipation\\noptimism\\ntrust  \n",
       "1            joy\\nlove\\noptimism  \n",
       "2  anger\\ndisgust\\njoy\\noptimism  \n",
       "3                  joy\\noptimism  \n",
       "4                 anger\\ndisgust  "
      ]
     },
     "execution_count": 50,
     "metadata": {},
     "output_type": "execute_result"
    }
   ],
   "source": [
    "emotions_dataset = emotions_dataset.iloc[:100,:]\n",
    "emotions_dataset['completion'] = emotions_dataset['completion']\n",
    "emotions_dataset.head()"
   ]
  },
  {
   "cell_type": "markdown",
   "id": "742e3f7d",
   "metadata": {},
   "source": [
    "# Step 6: Convert Dataset to JSONLines"
   ]
  },
  {
   "cell_type": "code",
   "execution_count": 52,
   "id": "672bee5b",
   "metadata": {},
   "outputs": [],
   "source": [
    "emotions_dataset.to_json(\"JASONLinesData_EmotionPrediction_Ahmad_4-11-22.jsonl\", orient='records', lines=True)"
   ]
  },
  {
   "cell_type": "markdown",
   "id": "db72cd15",
   "metadata": {},
   "source": [
    "# Step 7: Using OpenAi tools to prepare and Analyze dataset\n",
    "#### We can now use a data preparation tool which will suggest a few improvements to our dataset before fine-tuning. Before launching the tool we update the openai library to ensure we're using the latest data preparation tool. We additionally specify -q which auto-accepts all suggestions."
   ]
  },
  {
   "cell_type": "markdown",
   "id": "ca7811b6",
   "metadata": {},
   "source": [
    "#### if data contains empty records it will remove rows"
   ]
  },
  {
   "cell_type": "code",
   "execution_count": 30,
   "id": "79246f5d",
   "metadata": {},
   "outputs": [
    {
     "name": "stdout",
     "output_type": "stream",
     "text": [
      "Analyzing...\n",
      "\n",
      "- Your file contains 100 prompt-completion pairs\n",
      "- `completion` column/key should not contain empty strings. These are rows: [11, 38, 49, 78]\n",
      "- Your data does not contain a common separator at the end of your prompts. Having a separator string appended to the end of the prompt makes it clearer to the fine-tuned model where the completion should begin. See https://beta.openai.com/docs/guides/fine-tuning/preparing-your-dataset for more detail and examples. If you intend to do open-ended generation, then you should leave the prompts empty\n",
      "- All completions end with suffix `\\n`\n",
      "  WARNING: Some of your completions contain the suffix `\n",
      "` more than once. We suggest that you review your completions and add a unique ending\n",
      "- The completion should start with a whitespace character (` `). This tends to produce better results due to the tokenization we use. See https://beta.openai.com/docs/guides/fine-tuning/preparing-your-dataset for more details\n",
      "\n",
      "Based on the analysis we will perform the following actions:\n",
      "- [Necessary] Remove 4 rows with empty completions\n",
      "- [Recommended] Add a suffix separator ` ->` to all prompts [Y/n]: Y\n",
      "- [Recommended] Add a whitespace character to the beginning of the completion [Y/n]: Y\n",
      "\n",
      "\n",
      "Your data will be written to a new JSONL file. Proceed [Y/n]: Y\n",
      "\n",
      "Wrote modified file to `JASONLinesData_EmotionPrediction_Ahmad_4-11-22_prepared (2).jsonl`\n",
      "Feel free to take a look!\n",
      "\n",
      "Now use that file when fine-tuning:\n",
      "> openai api fine_tunes.create -t \"JASONLinesData_EmotionPrediction_Ahmad_4-11-22_prepared (2).jsonl\"\n",
      "\n",
      "After you’ve fine-tuned a model, remember that your prompt has to end with the indicator string ` ->` for the model to start generating completions, rather than continuing with the prompt. Make sure to include `stop=[\"\\n\"]` so that the generated texts ends at the expected place.\n",
      "Once your model starts training, it'll approximately take 6.12 minutes to train a `curie` model, and less for `ada` and `babbage`. Queue will approximately take half an hour per job ahead of you.\n"
     ]
    },
    {
     "name": "stderr",
     "output_type": "stream",
     "text": [
      "C:\\Users\\Lenovo\\anaconda3\\lib\\site-packages\\numpy\\_distributor_init.py:30: UserWarning: loaded more than 1 DLL from .libs:\n",
      "C:\\Users\\Lenovo\\anaconda3\\lib\\site-packages\\numpy\\.libs\\libopenblas.EL2C6PLE4ZYW3ECEVIV3OXXGRN2NRFM2.gfortran-win_amd64.dll\n",
      "C:\\Users\\Lenovo\\anaconda3\\lib\\site-packages\\numpy\\.libs\\libopenblas.WCDJNK7YVMPZQ2ME2ZZHJJRJ3JIKNDB7.gfortran-win_amd64.dll\n",
      "  warnings.warn(\"loaded more than 1 DLL from .libs:\"\n"
     ]
    }
   ],
   "source": [
    "!openai tools fine_tunes.prepare_data -f JASONLinesData_EmotionPrediction_Ahmad_4-11-22.jsonl -q"
   ]
  },
  {
   "cell_type": "markdown",
   "id": "ee7b0c4a",
   "metadata": {},
   "source": [
    "#### Use JASONLinesData_EmotionPrediction_Ahmad_4-11-22_prepared.jsonl for the Fine-tunning"
   ]
  }
 ],
 "metadata": {
  "kernelspec": {
   "display_name": "Python 3 (ipykernel)",
   "language": "python",
   "name": "python3"
  },
  "language_info": {
   "codemirror_mode": {
    "name": "ipython",
    "version": 3
   },
   "file_extension": ".py",
   "mimetype": "text/x-python",
   "name": "python",
   "nbconvert_exporter": "python",
   "pygments_lexer": "ipython3",
   "version": "3.8.13"
  }
 },
 "nbformat": 4,
 "nbformat_minor": 5
}
