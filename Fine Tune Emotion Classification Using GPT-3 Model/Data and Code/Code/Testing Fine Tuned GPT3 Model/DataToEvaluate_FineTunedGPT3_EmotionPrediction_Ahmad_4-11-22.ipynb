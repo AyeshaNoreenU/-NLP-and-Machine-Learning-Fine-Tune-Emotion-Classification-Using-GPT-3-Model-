{
 "cells": [
  {
   "cell_type": "markdown",
   "id": "35a1e52a",
   "metadata": {},
   "source": [
    "<br><br><br>\n",
    "<center> <h3 style=\"color:blue\">========================================================</h3> </center>\n",
    "<center> <h3 style=\"color:green\">In the Name of Allah, the Most Beneficent, the Most Merciful</h3> </center>\n",
    "<center> <h3 style=\"color:blue\">========================================================</h3> </center>\n",
    "<br><br><br>"
   ]
  },
  {
   "cell_type": "markdown",
   "id": "ee0f5cee",
   "metadata": {},
   "source": [
    "                        *--------------------------- Developer Information --------------------------*\n",
    "                        |                                                                            |\n",
    "                        |        Project Title  = Multi-label Emotion Prediction System              |\n",
    "                        |                                                                            |\n",
    "                        |        Developer Name = Ahmad Mahmood                                      |\n",
    "                        |                                                                            |\n",
    "                        |        Program Name:  = Data preparation                                   |\n",
    "                        |                                                                            |\n",
    "                        |        Program Version: = 1.0                                              |\n",
    "                        |                                                                            |\n",
    "                        |        Base GPT3 Model: = Ada                                              |\n",
    "                        |                                                                            |\n",
    "                        |        Time Taken in Fine Tuning: = 6 minutes                              |\n",
    "                        |                                                                            |\n",
    "                        |        Copyright      = Copyright (C) 2022 Ilm O Irfan Technologies        |\n",
    "                        |                                                                            |\n",
    "                        |        License        = Public Domain                                      |\n",
    "                        |                                                                            |\n",
    "                        |        Version        = 1.0                                                |\n",
    "                        |                                                                            |\n",
    "                        *----------------------------------------------------------------------------*"
   ]
  },
  {
   "cell_type": "markdown",
   "id": "ad94924e",
   "metadata": {},
   "source": [
    "\n",
    "                        *----------------------------- System Settings ------------------------------*\n",
    "                        |                                                                            |\n",
    "                        |        Programming Language  = Python 3.8.13                               |\n",
    "                        |                                                                            |\n",
    "                        |        Operating System      = Windows 10                                  |\n",
    "                        |                                                                            |\n",
    "                        |        IDE                   = Jupyter Notebook                            |\n",
    "                        |                                                                            |\n",
    "                        |        Start date            = 3-11-2022                                   |\n",
    "                        |                                                                            |\n",
    "                        |        End Data              = 4-11-2022                                   |\n",
    "                        |                                                                            |\n",
    "                        *----------------------------------------------------------------------------*\n"
   ]
  },
  {
   "cell_type": "markdown",
   "id": "97b33896",
   "metadata": {},
   "source": [
    "\n",
    "                        *----------------------- Project and Client Information  --------------------*\n",
    "                        |                                                                            |\n",
    "                        |                                                                            |\n",
    "                        |        Project Title: Multi-label Emotions Predictions System              |                         \n",
    "                        |        Client Name  : Ahmad Mahmod                                         |\n",
    "                        |                                                                            |\n",
    "                        *----------------------------------------------------------------------------*\n"
   ]
  },
  {
   "cell_type": "markdown",
   "id": "76604f09",
   "metadata": {},
   "source": [
    "\n",
    "                        *--------------------------- Purpose of the Program -------------------------*\n",
    "                        |                                                                            |\n",
    "                        |                                                                            |\n",
    "                        |    The Main purpoe of this program is to Test the Fine-tuned GPT-3 model   |\n",
    "                        |                                                                            |                         \n",
    "                        |                                                                            |\n",
    "                        *----------------------------------------------------------------------------*\n"
   ]
  },
  {
   "cell_type": "markdown",
   "id": "8500b3d3",
   "metadata": {},
   "source": [
    "\n",
    "                        *------------------------------ Input and Output ----------------------------*\n",
    "                        |                                                                            |\n",
    "                        |                                                                            |\n",
    "                        |        Input :                                                             |\n",
    "                        |                - Text                                                      |\n",
    "                        |       Output :                                                             |\n",
    "                        |                -  One or Multiple Emotions                                 |\n",
    "                        |                                                                            |\n",
    "                        |                                                                            |\n",
    "                        *----------------------------------------------------------------------------*\n"
   ]
  },
  {
   "cell_type": "markdown",
   "id": "09e68223",
   "metadata": {},
   "source": [
    "# Step 1: Import Libraries"
   ]
  },
  {
   "cell_type": "code",
   "execution_count": 1,
   "id": "0160cead",
   "metadata": {},
   "outputs": [
    {
     "name": "stderr",
     "output_type": "stream",
     "text": [
      "C:\\Users\\Lenovo\\anaconda3\\lib\\site-packages\\numpy\\_distributor_init.py:30: UserWarning: loaded more than 1 DLL from .libs:\n",
      "C:\\Users\\Lenovo\\anaconda3\\lib\\site-packages\\numpy\\.libs\\libopenblas.EL2C6PLE4ZYW3ECEVIV3OXXGRN2NRFM2.gfortran-win_amd64.dll\n",
      "C:\\Users\\Lenovo\\anaconda3\\lib\\site-packages\\numpy\\.libs\\libopenblas.WCDJNK7YVMPZQ2ME2ZZHJJRJ3JIKNDB7.gfortran-win_amd64.dll\n",
      "  warnings.warn(\"loaded more than 1 DLL from .libs:\"\n"
     ]
    }
   ],
   "source": [
    "import pandas as pd\n",
    "import openai\n",
    "import os"
   ]
  },
  {
   "cell_type": "markdown",
   "id": "47d0e55b",
   "metadata": {},
   "source": [
    "# Step 2: Add Unique API to the Environment"
   ]
  },
  {
   "cell_type": "code",
   "execution_count": 2,
   "id": "9e379622",
   "metadata": {},
   "outputs": [],
   "source": [
    "os.environ['OPENAI_API_KEY'] = \"Add your API HERE\"\n",
    "openai.api_key = os.getenv(\"OPENAI_API_KEY\")"
   ]
  },
  {
   "cell_type": "markdown",
   "id": "44431e41",
   "metadata": {},
   "source": [
    "# Step 3: Test Fine-tuned Emotion Classification Model"
   ]
  },
  {
   "cell_type": "markdown",
   "id": "82b44530",
   "metadata": {},
   "source": [
    "#### Step 3.1: Load the Fine-tuned model"
   ]
  },
  {
   "cell_type": "code",
   "execution_count": 3,
   "id": "5bd36dfa",
   "metadata": {},
   "outputs": [],
   "source": [
    "ft_model = 'ada:ft-personal-2022-11-24-14-30-29'"
   ]
  },
  {
   "cell_type": "markdown",
   "id": "11803959",
   "metadata": {},
   "source": [
    "#### Step 3.2: Get input from the user"
   ]
  },
  {
   "cell_type": "code",
   "execution_count": 35,
   "id": "02bcb23c",
   "metadata": {},
   "outputs": [
    {
     "name": "stdout",
     "output_type": "stream",
     "text": [
      "Enter the Text! : The best medicine of the world is: Love and Respect the Humanity to Please Allah.\n"
     ]
    }
   ],
   "source": [
    "get_input = input(str(\"Enter the Text! : \"))"
   ]
  },
  {
   "cell_type": "markdown",
   "id": "c087a821",
   "metadata": {},
   "source": [
    "#### Step 3.3: Get Predictions on Input Text"
   ]
  },
  {
   "cell_type": "markdown",
   "id": "1ac0002e",
   "metadata": {},
   "source": [
    "#### Step 3.3.1: Set Temperature"
   ]
  },
  {
   "cell_type": "code",
   "execution_count": 36,
   "id": "ff8bd601",
   "metadata": {},
   "outputs": [],
   "source": [
    "Temperature = 1\n",
    "set_max_tokens = 10"
   ]
  },
  {
   "cell_type": "markdown",
   "id": "18c77485",
   "metadata": {},
   "source": [
    "#### Step 3.4: Get Predicted Results from the Model"
   ]
  },
  {
   "cell_type": "code",
   "execution_count": 37,
   "id": "fb4b3830",
   "metadata": {},
   "outputs": [],
   "source": [
    "result = openai.Completion.create(model=ft_model,  prompt=get_input + ' ->', max_tokens=set_max_tokens, temperature=Temperature)"
   ]
  },
  {
   "cell_type": "markdown",
   "id": "a7ec429a",
   "metadata": {},
   "source": [
    "#### Step 3.5: Print Predictions"
   ]
  },
  {
   "cell_type": "code",
   "execution_count": 38,
   "id": "d7ae35da",
   "metadata": {},
   "outputs": [
    {
     "name": "stdout",
     "output_type": "stream",
     "text": [
      "Predictions are : \n",
      "\n",
      "love\n",
      "\n",
      "optimism\n"
     ]
    }
   ],
   "source": [
    "def preprocess_results(results):\n",
    "    results=results.replace(',','')\n",
    "    #results=results.replace(' ','')\n",
    "    #results=results.replace(\"'\",' ')\n",
    "    results = results.lstrip()\n",
    "    results = results.rstrip()\n",
    "    results = results.strip()\n",
    "    #results=results.replace(\"  \",', ')\n",
    "    return results\n",
    "    \n",
    "results = preprocess_results(result['choices'][0]['text'])\n",
    "\n",
    "print(f\"Predictions are : \\n\\n{results}\")"
   ]
  },
  {
   "cell_type": "code",
   "execution_count": null,
   "id": "dc35671f",
   "metadata": {},
   "outputs": [],
   "source": []
  }
 ],
 "metadata": {
  "kernelspec": {
   "display_name": "Python 3 (ipykernel)",
   "language": "python",
   "name": "python3"
  },
  "language_info": {
   "codemirror_mode": {
    "name": "ipython",
    "version": 3
   },
   "file_extension": ".py",
   "mimetype": "text/x-python",
   "name": "python",
   "nbconvert_exporter": "python",
   "pygments_lexer": "ipython3",
   "version": "3.8.13"
  }
 },
 "nbformat": 4,
 "nbformat_minor": 5
}
