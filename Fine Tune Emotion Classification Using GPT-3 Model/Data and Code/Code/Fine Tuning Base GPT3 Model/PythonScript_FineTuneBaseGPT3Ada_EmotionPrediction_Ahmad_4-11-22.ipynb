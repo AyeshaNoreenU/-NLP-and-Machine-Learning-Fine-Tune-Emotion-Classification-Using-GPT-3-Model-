{
 "cells": [
  {
   "cell_type": "markdown",
   "id": "35a1e52a",
   "metadata": {},
   "source": [
    "<br><br><br>\n",
    "<center> <h3 style=\"color:blue\">========================================================</h3> </center>\n",
    "<center> <h3 style=\"color:green\">In the Name of Allah, the Most Beneficent, the Most Merciful</h3> </center>\n",
    "<center> <h3 style=\"color:blue\">========================================================</h3> </center>\n",
    "<br><br><br>"
   ]
  },
  {
   "cell_type": "markdown",
   "id": "ee0f5cee",
   "metadata": {},
   "source": [
    "                        *--------------------------- Developer Information --------------------------*\n",
    "                        |                                                                            |\n",
    "                        |        Project Title  = Multi-label Emotion Prediction System              |\n",
    "                        |                                                                            |\n",
    "                        |        Developer Name = Ayesha Noreen                                      |\n",
    "                        |                                                                            |\n",
    "                        |        Program Name:  = Data preparation                                   |\n",
    "                        |                                                                            |\n",
    "                        |        Program Version: = 1.0                                              |\n",
    "                        |                                                                            |\n",
    "                        |        Base GPT3 Model: = Ada                                              |\n",
    "                        |                                                                            |\n",
    "                        |        Time Taken in Fine Tuning: = 6 minutes                              |\n",
    "                        |                                                                            |\n",
    "                        |        Copyright      = Copyright (C) 2022 Ilm O Irfan Technologies        |\n",
    "                        |                                                                            |\n",
    "                        |        License        = Public Domain                                      |\n",
    "                        |                                                                            |\n",
    "                        |        Version        = 1.0                                                |\n",
    "                        |                                                                            |\n",
    "                        *----------------------------------------------------------------------------*"
   ]
  },
  {
   "cell_type": "markdown",
   "id": "ad94924e",
   "metadata": {},
   "source": [
    "\n",
    "                        *----------------------------- System Settings ------------------------------*\n",
    "                        |                                                                            |\n",
    "                        |        Programming Language  = Python 3.8.13                               |\n",
    "                        |                                                                            |\n",
    "                        |        Operating System      = Windows 10                                  |\n",
    "                        |                                                                            |\n",
    "                        |        IDE                   = Jupyter Notebook                            |\n",
    "                        |                                                                            |\n",
    "                        |        Start date            = 3-11-2022                                   |\n",
    "                        |                                                                            |\n",
    "                        |        End Data              = 4-11-2022                                   |\n",
    "                        |                                                                            |\n",
    "                        *----------------------------------------------------------------------------*\n"
   ]
  },
  {
   "cell_type": "markdown",
   "id": "fa6b13bc",
   "metadata": {},
   "source": [
    "\n",
    "                        *----------------------- Project and Client Information  --------------------*\n",
    "                        |                                                                            |\n",
    "                        |                                                                            |\n",
    "                        |        Project Title: Multi-label Emotions Predictions System              |                         \n",
    "                        |        Client Name  : Ayesha Noreen                                        |\n",
    "                        |                                                                            |\n",
    "                        *----------------------------------------------------------------------------*\n"
   ]
  },
  {
   "cell_type": "markdown",
   "id": "76604f09",
   "metadata": {},
   "source": [
    "\n",
    "                        *--------------------------- Purpose of the Program -------------------------*\n",
    "                        |                                                                            |\n",
    "                        |                                                                            |\n",
    "                        |        The Main purpoe of this program is to Fine-tune the GPT-3 model     |\n",
    "                        |                 using a JSONLines Format prepared in Step 7                |                         \n",
    "                        |                             of DATA PREPARATION                            |\n",
    "                        |                                                                            |\n",
    "                        *----------------------------------------------------------------------------*\n"
   ]
  },
  {
   "cell_type": "markdown",
   "id": "0dbd1366",
   "metadata": {},
   "source": [
    "\n",
    "                        *------------------------------ Input and Output ----------------------------*\n",
    "                        |                                                                            |\n",
    "                        |                                                                            |\n",
    "                        |        Input :                                                             |\n",
    "                        |            - JASONLinesData_EmotionPrediction_Ahmad_4-11-22_prepared.json  |\n",
    "                        |       Output :                                                             |\n",
    "                        |            -  Trained Model                                                |\n",
    "                        |                                                                            |\n",
    "                        |                                                                            |\n",
    "                        *----------------------------------------------------------------------------*\n"
   ]
  },
  {
   "cell_type": "markdown",
   "id": "09e68223",
   "metadata": {},
   "source": [
    "# Step 1: Import Libraries"
   ]
  },
  {
   "cell_type": "code",
   "execution_count": 1,
   "id": "0160cead",
   "metadata": {},
   "outputs": [
    {
     "name": "stderr",
     "output_type": "stream",
     "text": [
      "C:\\Users\\Lenovo\\anaconda3\\lib\\site-packages\\numpy\\_distributor_init.py:30: UserWarning: loaded more than 1 DLL from .libs:\n",
      "C:\\Users\\Lenovo\\anaconda3\\lib\\site-packages\\numpy\\.libs\\libopenblas.EL2C6PLE4ZYW3ECEVIV3OXXGRN2NRFM2.gfortran-win_amd64.dll\n",
      "C:\\Users\\Lenovo\\anaconda3\\lib\\site-packages\\numpy\\.libs\\libopenblas.WCDJNK7YVMPZQ2ME2ZZHJJRJ3JIKNDB7.gfortran-win_amd64.dll\n",
      "  warnings.warn(\"loaded more than 1 DLL from .libs:\"\n"
     ]
    }
   ],
   "source": [
    "import pandas as pd\n",
    "import openai\n",
    "import os"
   ]
  },
  {
   "cell_type": "markdown",
   "id": "47d0e55b",
   "metadata": {},
   "source": [
    "# Step 2: Add Unique API to the Environment"
   ]
  },
  {
   "cell_type": "code",
   "execution_count": 4,
   "id": "9e379622",
   "metadata": {},
   "outputs": [],
   "source": [
    "os.environ['OPENAI_API_KEY'] = \"Add your API HERE\"\n",
    "openai.api_key = os.getenv(\"OPENAI_API_KEY\")"
   ]
  },
  {
   "cell_type": "markdown",
   "id": "de1066d8",
   "metadata": {},
   "source": [
    "# Step 3: Fine Tune Prepared Dataset using curie Model\n",
    "#### Important Note\n",
    "#### We cannot train fine-tune a model on free trial if its exceeds 15$"
   ]
  },
  {
   "cell_type": "markdown",
   "id": "2cb515cf",
   "metadata": {},
   "source": [
    "#### Use JASONLinesData_EmotionPrediction_Ahmad_4-11-22_prepared.jsonl for the Fine-tunning created in DATA PREPRATION Step 7"
   ]
  },
  {
   "cell_type": "code",
   "execution_count": 5,
   "id": "baa91cba",
   "metadata": {
    "scrolled": true
   },
   "outputs": [
    {
     "name": "stdout",
     "output_type": "stream",
     "text": [
      "Uploaded file from C:\\Users\\Lenovo\\Desktop\\openai\\GPT-3 Documentation\\Sirs Comments\\Data and Code\\Code\\Data Preparation/JASONLinesData_EmotionPrediction_Ahmad_4-11-22_prepared (2).jsonl: file-pDj3SFCmdAjE808xMBZP9e3T\n",
      "Created fine-tune: ft-bYlB1dxcgVqfiUA7FCCL4I1J\n",
      "Streaming events until fine-tuning is complete...\n",
      "\n",
      "(Ctrl-C will interrupt the stream, but not cancel the fine-tune)\n",
      "[2022-11-24 19:29:01] Created fine-tune: ft-bYlB1dxcgVqfiUA7FCCL4I1J\n",
      "[2022-11-24 19:29:07] Fine-tune costs $0.01\n",
      "[2022-11-24 19:29:07] Fine-tune enqueued. Queue number: 0\n",
      "[2022-11-24 19:29:08] Fine-tune started\n",
      "[2022-11-24 19:29:33] Completed epoch 1/4\n",
      "[2022-11-24 19:29:46] Completed epoch 2/4\n",
      "[2022-11-24 19:29:59] Completed epoch 3/4\n",
      "[2022-11-24 19:30:13] Completed epoch 4/4\n",
      "[2022-11-24 19:30:29] Uploaded model: ada:ft-personal-2022-11-24-14-30-29\n",
      "[2022-11-24 19:30:30] Uploaded result file: file-c7ppeI4XhB9zo93pwPA8MLJa\n",
      "[2022-11-24 19:30:30] Fine-tune succeeded\n"
     ]
    },
    {
     "name": "stderr",
     "output_type": "stream",
     "text": [
      "C:\\Users\\Lenovo\\anaconda3\\lib\\site-packages\\numpy\\_distributor_init.py:30: UserWarning: loaded more than 1 DLL from .libs:\n",
      "C:\\Users\\Lenovo\\anaconda3\\lib\\site-packages\\numpy\\.libs\\libopenblas.EL2C6PLE4ZYW3ECEVIV3OXXGRN2NRFM2.gfortran-win_amd64.dll\n",
      "C:\\Users\\Lenovo\\anaconda3\\lib\\site-packages\\numpy\\.libs\\libopenblas.WCDJNK7YVMPZQ2ME2ZZHJJRJ3JIKNDB7.gfortran-win_amd64.dll\n",
      "  warnings.warn(\"loaded more than 1 DLL from .libs:\"\n",
      "\n",
      "Upload progress:   0%|          | 0.00/15.0k [00:00<?, ?it/s]\n",
      "Upload progress: 100%|##########| 15.0k/15.0k [00:00<00:00, 15.1Mit/s]\n",
      "Traceback (most recent call last):\n",
      "  File \"C:\\Users\\Lenovo\\anaconda3\\lib\\runpy.py\", line 194, in _run_module_as_main\n",
      "    return _run_code(code, main_globals, None,\n",
      "  File \"C:\\Users\\Lenovo\\anaconda3\\lib\\runpy.py\", line 87, in _run_code\n",
      "    exec(code, run_globals)\n",
      "  File \"C:\\Users\\Lenovo\\anaconda3\\Scripts\\openai.exe\\__main__.py\", line 7, in <module>\n",
      "  File \"C:\\Users\\Lenovo\\anaconda3\\lib\\site-packages\\openai\\_openai_scripts.py\", line 63, in main\n",
      "    args.func(args)\n",
      "  File \"C:\\Users\\Lenovo\\anaconda3\\lib\\site-packages\\openai\\cli.py\", line 468, in create\n",
      "    cls._stream_events(resp[\"id\"])\n",
      "  File \"C:\\Users\\Lenovo\\anaconda3\\lib\\site-packages\\openai\\cli.py\", line 545, in _stream_events\n",
      "    sys.stdout.write(\"\\nJob complete! Status: succeeded \\U0001f389\")\n",
      "  File \"C:\\Users\\Lenovo\\anaconda3\\lib\\encodings\\cp1252.py\", line 19, in encode\n",
      "    return codecs.charmap_encode(input,self.errors,encoding_table)[0]\n",
      "UnicodeEncodeError: 'charmap' codec can't encode character '\\U0001f389' in position 34: character maps to <undefined>\n"
     ]
    }
   ],
   "source": [
    "!openai api fine_tunes.create -t \"C:\\Users\\Lenovo\\Desktop\\openai\\GPT-3 Documentation\\Sirs Comments\\Data and Code\\Code\\Data Preparation/JASONLinesData_EmotionPrediction_Ahmad_4-11-22_prepared (2).jsonl\"  -m ada"
   ]
  },
  {
   "cell_type": "markdown",
   "id": "c364c51e",
   "metadata": {},
   "source": [
    "## Fine-trained Model: ada:ft-personal-2022-11-01-17-30-11"
   ]
  }
 ],
 "metadata": {
  "kernelspec": {
   "display_name": "Python 3 (ipykernel)",
   "language": "python",
   "name": "python3"
  },
  "language_info": {
   "codemirror_mode": {
    "name": "ipython",
    "version": 3
   },
   "file_extension": ".py",
   "mimetype": "text/x-python",
   "name": "python",
   "nbconvert_exporter": "python",
   "pygments_lexer": "ipython3",
   "version": "3.8.13"
  }
 },
 "nbformat": 4,
 "nbformat_minor": 5
}
